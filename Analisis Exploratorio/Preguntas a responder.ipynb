{
 "cells": [
  {
   "cell_type": "markdown",
   "metadata": {},
   "source": [
    "## Preguntas para hacernos entre todos y debatir\n",
    "\n",
    "1  - Qué hacer con el campo ID del dataset?\n",
    "\n",
    "2  - Eliminar columna innecesaria como \"Operation\".\n",
    "\n",
    "3  - Hay que tener en cuenta además de los departamentos y las casas, los PH y las store?\n",
    "\n",
    "4  - Búsqueda de datos sobre la seguridad de cada barrio, generalmente diarios como La Nación o Clarín recuerdo que sacaban buenos informes sobre la seguridad por barrios. (Aún deben estar en la web).\n",
    "\n",
    "5  - Buscar información sobre el Dolar en esos años, si hubo grandes variaciones, de crecimiento estable o lineal.\n",
    "\n"
   ]
  },
  {
   "cell_type": "markdown",
   "metadata": {},
   "source": [
    "## Preguntas para analizar\n",
    "\n",
    "1 - Ver si en el dataset hay algún enfoque en particular en lo que respecta a las casas, departamentos, store o PH. (útil este apartado para ver en algún gráfico).\n",
    "\n",
    "2 - Indicar el promedio de expensas por barrio y después ver como evolucionó con el tiempo su precio (similar a las preguntas ya propuestas pero centrado en expensas).\n",
    "\n",
    "3 - Categorizar los inmuebles por sus precios en diferentes zonas 7/o barrios con características similares de inmuebles (similar número de metro cuadrado, número de habitaciones).\n",
    "\n",
    "4 - (Opcional y a debatir como implementar) Agregar alguna columna que nueva que indique del 1 al 10 que tan segura es la zona por barrios.\n",
    "\n",
    "5 - Precio del metro cuadrado por barrio (un estimativo).\n",
    "\n",
    "6 - Diferencia entre precios de casas y deptos con similares características en CABA y Gran Buenos Aires.\n",
    "\n",
    "7 - Sacar el valor del dolar viendo las diferencias de precios en pesos y en dolares (Ver si hay algún calculo para sacar dicho valor).\n",
    "\n",
    "8 - Relación por barrio entre superficie total en metro cuadrado y su precio."
   ]
  }
 ],
 "metadata": {
  "kernelspec": {
   "display_name": "Python 2",
   "language": "python",
   "name": "python2"
  },
  "language_info": {
   "codemirror_mode": {
    "name": "ipython",
    "version": 2
   },
   "file_extension": ".py",
   "mimetype": "text/x-python",
   "name": "python",
   "nbconvert_exporter": "python",
   "pygments_lexer": "ipython2",
   "version": "2.7.12"
  }
 },
 "nbformat": 4,
 "nbformat_minor": 2
}
